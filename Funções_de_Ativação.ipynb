{
  "nbformat": 4,
  "nbformat_minor": 0,
  "metadata": {
    "kernelspec": {
      "display_name": "Python 3",
      "language": "python",
      "name": "python3"
    },
    "language_info": {
      "codemirror_mode": {
        "name": "ipython",
        "version": 3
      },
      "file_extension": ".py",
      "mimetype": "text/x-python",
      "name": "python",
      "nbconvert_exporter": "python",
      "pygments_lexer": "ipython3",
      "version": "3.8.3"
    },
    "colab": {
      "name": "Funções de Ativação.ipynb",
      "provenance": [],
      "include_colab_link": true
    }
  },
  "cells": [
    {
      "cell_type": "markdown",
      "metadata": {
        "id": "view-in-github",
        "colab_type": "text"
      },
      "source": [
        "<a href=\"https://colab.research.google.com/github/IanAlves21/Funcoes-de-Ativacao-RNA/blob/main/Fun%C3%A7%C3%B5es_de_Ativa%C3%A7%C3%A3o.ipynb\" target=\"_parent\"><img src=\"https://colab.research.google.com/assets/colab-badge.svg\" alt=\"Open In Colab\"/></a>"
      ]
    },
    {
      "cell_type": "markdown",
      "metadata": {
        "id": "fxrarj9I3r4e"
      },
      "source": [
        "# Conhecendo as Funções de Ativação\n",
        "\n",
        "**Disciplina**: Redes Neurais Artificiais 2020.1  \n",
        "**Professora**: Elloá B. Guedes (ebgcosta@uea.edu.br)  \n",
        "**Github**: http://github.com/elloa  \n",
        "\n",
        "## Alunos\n",
        "* Ian Gustavo Alves Pessoa Siilva - Matrícula: 1715080288\n",
        "* Daniel Akio Chen - Matrícula: 1715080253\n",
        "\n",
        "## Apresentação\n",
        "\n",
        "No contexto das redes neurais artificiais, as funções de ativação representam as transformações aplicadas às entradas do neurônio sujeitas aos respectivos graus de contribuição (pesos) para decidir se este neurônio deve ou não disparar. Ao considerar as redes neurais feedforward multilayer perceptron, tais funções de ativação devem ser contínuas e deriváveis, sendo responsáveis por realizarem transformações não-lineares sucessivas da informação fornecida na camada de entrada até a camada de saída, fazendo com que o problema vá tornando-se linearmente separável à medida que adentra-se na rede.\n",
        "\n",
        "Neste notebook, o seu objetivo é conhecer melhor as funções de ativação disponíveis na literatura e suas respectivas derivadas. Você irá construir gráficos que ilustrem tais funções.\n",
        "\n",
        "## Requisitos\n",
        "\n",
        "- Utilizar numpy\n",
        "- Plotar com matplotlib"
      ]
    },
    {
      "cell_type": "code",
      "metadata": {
        "id": "HcaCJpIf3r4f"
      },
      "source": [
        "# Célula reservada para importar bibliotecas\n",
        "import numpy as np\n",
        "import random\n",
        "import math\n",
        "import matplotlib.pyplot as plt"
      ],
      "execution_count": 1,
      "outputs": []
    },
    {
      "cell_type": "markdown",
      "metadata": {
        "id": "w_U8B9e63r4k"
      },
      "source": [
        "## Intervalo de Entrada\n",
        "\n",
        "- Todas as funções devem ser ilustradas no intervalo [-4,+4] com amostras intervaladas em 0.1 no eixo x\n",
        "- Consulte a documentação de numpy.arange sobre como fazê-lo\n",
        "- https://numpy.org/doc/stable/reference/generated/numpy.arange.html#numpy.arange\n",
        "- Quantas amostras há em tal espaço de entrada?\n",
        "- Qual o tipo deste dado?\n",
        "- Qual a forma do espaço de entrada?"
      ]
    },
    {
      "cell_type": "code",
      "metadata": {
        "id": "HwKB5H4S3r4l"
      },
      "source": [
        "# geração dos pontos do eixo X, intervalo fechado de [-4.0 , 4.0]\n",
        "eixo_x = np.arange(-4.0, 4.1, 0.1)       \n",
        "for i in range(len(eixo_x)):\n",
        "  eixo_x[i] = round(eixo_x[i], 2)"
      ],
      "execution_count": 2,
      "outputs": []
    },
    {
      "cell_type": "code",
      "metadata": {
        "id": "3nGKnh9P3r4o",
        "outputId": "ac95b89b-26af-4441-ab8c-03168487ed78",
        "colab": {
          "base_uri": "https://localhost:8080/"
        }
      },
      "source": [
        "print(\"O espaço de entrada é preenchido com {} amostras\".format(len(eixo_x)))"
      ],
      "execution_count": 3,
      "outputs": [
        {
          "output_type": "stream",
          "text": [
            "O espaço de entrada é preenchido com 81 amostras\n"
          ],
          "name": "stdout"
        }
      ]
    },
    {
      "cell_type": "code",
      "metadata": {
        "id": "E9CU-LjJ3r4r",
        "outputId": "b3d02503-e8ae-4d44-a41f-4e16dc2a55e1",
        "colab": {
          "base_uri": "https://localhost:8080/"
        }
      },
      "source": [
        "print(\"O tipo desde dados de entrada é: {}\".format(type(eixo_x[0])))"
      ],
      "execution_count": 4,
      "outputs": [
        {
          "output_type": "stream",
          "text": [
            "O tipo desde dados de entrada é: <class 'numpy.float64'>\n"
          ],
          "name": "stdout"
        }
      ]
    },
    {
      "cell_type": "code",
      "metadata": {
        "id": "6jlJ9ucb3r4v",
        "outputId": "61ad493e-e729-4bda-ff02-fd1f1f0d43f4",
        "colab": {
          "base_uri": "https://localhost:8080/"
        }
      },
      "source": [
        "print(\"O espaço de entrada é da seguinte forma:\\n {}\".format(eixo_x))"
      ],
      "execution_count": 5,
      "outputs": [
        {
          "output_type": "stream",
          "text": [
            "O espaço de entrada é da seguinte forma:\n",
            " [-4.  -3.9 -3.8 -3.7 -3.6 -3.5 -3.4 -3.3 -3.2 -3.1 -3.  -2.9 -2.8 -2.7\n",
            " -2.6 -2.5 -2.4 -2.3 -2.2 -2.1 -2.  -1.9 -1.8 -1.7 -1.6 -1.5 -1.4 -1.3\n",
            " -1.2 -1.1 -1.  -0.9 -0.8 -0.7 -0.6 -0.5 -0.4 -0.3 -0.2 -0.1  0.   0.1\n",
            "  0.2  0.3  0.4  0.5  0.6  0.7  0.8  0.9  1.   1.1  1.2  1.3  1.4  1.5\n",
            "  1.6  1.7  1.8  1.9  2.   2.1  2.2  2.3  2.4  2.5  2.6  2.7  2.8  2.9\n",
            "  3.   3.1  3.2  3.3  3.4  3.5  3.6  3.7  3.8  3.9  4. ]\n"
          ],
          "name": "stdout"
        }
      ]
    },
    {
      "cell_type": "markdown",
      "metadata": {
        "id": "fbZHlz3j3r4x"
      },
      "source": [
        "### Função de ativação sigmoide\n",
        "\n",
        "$$f(x) = \\frac{1}{1 + e^{-\\beta \\cdot x}}$$\n",
        "\n",
        "- Implemente uma função em Python que retorne o valor da função sigmóide para uma dada entrada\n",
        "- Nesta função, considere beta como parâmetro nomeado com valor igual a 1.0\n",
        "- Plote o gráfico da função no intervalo de entrada previamente especificado\n",
        "- Implemente uma função que retorne o valor da derivada da função sigmoide\n",
        "- Em um mesmo gráfico, ilustre 3 valores distintos para $\\beta$:\n",
        "  - $\\beta = 0.7$ na cor laranja\n",
        "  - $\\beta = 0.5$ na cor verde\n",
        "  - $\\beta = 0.3$ na cor vermelha\n",
        "  - Use legendas no gráfico"
      ]
    },
    {
      "cell_type": "code",
      "metadata": {
        "id": "WrsfOy1z3r4y"
      },
      "source": [
        "# Definição da funcao de ativação sigmoide\n",
        "def sigmoide(x, beta):\n",
        "  beta = beta\n",
        "  num = 1.0\n",
        "  den = (1.0 + math.exp(-beta*x))\n",
        "  ans = num/den\n",
        "  return ans\n",
        "\n",
        "# Definição da derivada da funcao de ativação sigmoide\n",
        "def derivada_sigmoide(x, beta):\n",
        "  beta = beta\n",
        "  num = beta * math.exp(beta*x)\n",
        "  den = pow((math.exp(beta*x) + 1.0), 2)\n",
        "  ans = num/den\n",
        "  return ans"
      ],
      "execution_count": 6,
      "outputs": []
    },
    {
      "cell_type": "code",
      "metadata": {
        "id": "0z45XTMH3r40",
        "outputId": "a1fcb6fc-7854-4d4c-abdc-f19af30688be",
        "colab": {
          "base_uri": "https://localhost:8080/",
          "height": 332
        }
      },
      "source": [
        "# Plot do grafico da funcao sigmóide para intervalo predefinido\n",
        "\n",
        "eixo_y = np.zeros(len(eixo_x))\n",
        "eixo_y_derivado = np.zeros(len(eixo_x))\n",
        "for i in range(len(eixo_x)):\n",
        "  eixo_y[i] = sigmoide(eixo_x[i], 1.0)\n",
        "  eixo_y_derivado[i] = derivada_sigmoide(eixo_x[i], 1.0)\n",
        "\n",
        "plt.plot(eixo_x, eixo_y, label = \"Reta da função de ativação sigmóide\")\n",
        "plt.plot(eixo_x, eixo_y_derivado, label = \"Reta da derivada da função de ativação sigmóide com beta = 1\")\n",
        "plt.legend(loc=\"upper center\", bbox_to_anchor=(0.5, 1.25))"
      ],
      "execution_count": 7,
      "outputs": [
        {
          "output_type": "execute_result",
          "data": {
            "text/plain": [
              "<matplotlib.legend.Legend at 0x7fd2a40340f0>"
            ]
          },
          "metadata": {
            "tags": []
          },
          "execution_count": 7
        },
        {
          "output_type": "display_data",
          "data": {
            "image/png": "[encoded data removed]",
            "text/plain": [
              "<Figure size 432x288 with 1 Axes>"
            ]
          },
          "metadata": {
            "tags": [],
            "needs_background": "light"
          }
        }
      ]
    },
    {
      "cell_type": "code",
      "metadata": {
        "id": "Sgr_p1VW_8xP",
        "outputId": "a9cf86e0-1330-492f-eab6-cabd08ffcfbd",
        "colab": {
          "base_uri": "https://localhost:8080/",
          "height": 321
        }
      },
      "source": [
        "# Plot do grafico da derivada da funcao sigmóide com os valores para beta definidos\n",
        "\n",
        "beta = np.array([0.7, 0.5, 0.3])\n",
        "color = np.array([\"orange\", \"green\", \"red\"])\n",
        "for (index, b) in enumerate(beta):\n",
        "  eixo_y = np.zeros(len(eixo_x))\n",
        "  for i in range(len(eixo_x)):\n",
        "    eixo_y[i] = sigmoide(eixo_x[i], b)\n",
        "\n",
        "  plt.plot(eixo_x, eixo_y, label = \"Reta da função de ativação sigmóide com beta = {}\".format(b), color=color[index])\n",
        "  plt.legend(loc=\"upper center\", bbox_to_anchor=(0.5, 1.28))"
      ],
      "execution_count": 10,
      "outputs": [
        {
          "output_type": "display_data",
          "data": {
            "image/png": "[encoded data removed]",
            "text/plain": [
              "<Figure size 432x288 with 1 Axes>"
            ]
          },
          "metadata": {
            "tags": [],
            "needs_background": "light"
          }
        }
      ]
    },
    {
      "cell_type": "markdown",
      "metadata": {
        "id": "PKXsmr0E3r45"
      },
      "source": [
        "### Função de Ativação ReLU (Unidade Linear Retificada)\n",
        "\n",
        "$$f(x) = max(0,x)$$\n",
        "\n",
        "- Implemente uma função em Python que retorne o valor da função ReLU para uma dada entrada\n",
        "- Plote o gráfico da função no intervalo de entrada previamente especificado\n",
        "- Implemente uma função que retorne o valor da derivada da função ReLU"
      ]
    },
    {
      "cell_type": "code",
      "metadata": {
        "id": "zLcU_nNS3r46"
      },
      "source": [
        "# Definição da funcao de ativação relu\n",
        "def relu(x):\n",
        "  ans = max(0, x)\n",
        "  return ans\n",
        "\n",
        "# Definição da derivada da funcao de ativação relu\n",
        "def derivada_relu(x):\n",
        "  return 1 if x>=0 else 0"
      ],
      "execution_count": null,
      "outputs": []
    },
    {
      "cell_type": "code",
      "metadata": {
        "id": "G72ol2cxd-h_"
      },
      "source": [
        "# Plot do grafico da funcao relu para intervalo predefinido\n",
        "\n",
        "eixo_y = np.zeros(len(eixo_x))\n",
        "eixo_y_derivado = np.zeros(len(eixo_x))\n",
        "for i in range(len(eixo_x)):\n",
        "  eixo_y[i] = relu(eixo_x[i])\n",
        "  eixo_y_derivado[i] = derivada_relu(eixo_x[i])\n",
        "\n",
        "plt.plot(eixo_x, eixo_y, label = \"Reta da funcao de ativação relu\")\n",
        "plt.plot(eixo_x, eixo_y_derivado, label = \"Reta da derivada da funcao de ativação relu\")\n",
        "plt.legend(loc=\"upper center\", bbox_to_anchor=(0.5, 1.25))"
      ],
      "execution_count": null,
      "outputs": []
    },
    {
      "cell_type": "markdown",
      "metadata": {
        "id": "KY4b3WQV3r47"
      },
      "source": [
        "### Função de ativação linear (purelin)\n",
        "\n",
        "$$f(x) = x$$\n",
        "\n",
        "- Implemente uma função em Python que retorne o valor da função linear para uma dada entrada\n",
        "- Plote o gráfico da função no intervalo de entrada previamente especificado\n",
        "- Implemente uma função que retorne o valor da derivada da função em questão"
      ]
    },
    {
      "cell_type": "code",
      "metadata": {
        "id": "SQvny2pp3r48"
      },
      "source": [
        "# Definição da funcao de ativação linear purelin\n",
        "def linar_purelin(x):\n",
        "  ans = x\n",
        "  return ans\n",
        "\n",
        "# Definição da derivada da funcao de ativação linear purelin\n",
        "def derivada_linar_purelin(x):\n",
        "  return 1"
      ],
      "execution_count": null,
      "outputs": []
    },
    {
      "cell_type": "code",
      "metadata": {
        "id": "Z4c8OZzF3r4-"
      },
      "source": [
        "# Plot do grafico da funcao purelin para intervalo predefinido\n",
        "\n",
        "eixo_y = np.zeros(len(eixo_x))\n",
        "eixo_y_derivado = np.zeros(len(eixo_x))\n",
        "for i in range(len(eixo_x)):\n",
        "  eixo_y[i] = linar_purelin(eixo_x[i])\n",
        "  eixo_y_derivado[i] = derivada_linar_purelin(eixo_x[i])\n",
        "\n",
        "plt.plot(eixo_x, eixo_y, label = \"Reta da funcao de ativação linear purelin\")\n",
        "plt.plot(eixo_x, eixo_y_derivado, label = \"Reta da derivada da funcao de ativação linear purelin\")\n",
        "plt.legend(loc=\"upper center\", bbox_to_anchor=(0.5, 1.25))"
      ],
      "execution_count": null,
      "outputs": []
    },
    {
      "cell_type": "markdown",
      "metadata": {
        "id": "AC8D4hSY3r5C"
      },
      "source": [
        "### Função de ativação Tangente Hiperbólica\n",
        "\n",
        "$$f(x) = tanh(x)$$\n",
        "\n",
        "- Implemente uma função em Python que retorne o valor da função tangente hiperbólica para uma dada entrada\n",
        "- Plote o gráfico da função no intervalo de entrada previamente especificado\n",
        "- Implemente uma função que retorne o valor da derivada da função em questão\n",
        "- Utilize bibliotecas para auxiliar nesta tarefa\n",
        "- Considere o intervalo (-1,1)"
      ]
    },
    {
      "cell_type": "code",
      "metadata": {
        "id": "3Pizrq0r3r5C"
      },
      "source": [
        "# Definição da funcao de ativação Tangente Hiperbólica\n",
        "def tanh(x):\n",
        "  return math.tanh(x)\n",
        "\n",
        "# Definição da derivada da funcao de ativação tangente hiperbolica\n",
        "def derivada_tanh(x):\n",
        "  num = 1\n",
        "  den = pow(math.cosh(x), 2)\n",
        "  ans = num/den\n",
        "  return ans"
      ],
      "execution_count": null,
      "outputs": []
    },
    {
      "cell_type": "code",
      "metadata": {
        "id": "v7NHz3yd3r5E"
      },
      "source": [
        "# Plot do grafico da funcao Tangente Hiperbólica para intervalo predefinido [-1, 1]\n",
        "\n",
        "x = np.arange(-1.0, 1.1, 0.1)   \n",
        "eixo_y = np.zeros(len(x))\n",
        "eixo_y_derivado = np.zeros(len(x))\n",
        "for i in range(len(x)):\n",
        "  eixo_y[i] = tanh(x[i])\n",
        "  eixo_y_derivado[i] = derivada_tanh(x[i])\n",
        "\n",
        "plt.plot(x, eixo_y, label = \"Reta da funcao de ativaçao tangente hiperbolica\")\n",
        "plt.plot(x, eixo_y_derivado, label = \"Reta da derivada da funcao de ativação tangente hiperbolica\")\n",
        "plt.legend(loc=\"upper center\", bbox_to_anchor=(0.5, 1.25))"
      ],
      "execution_count": null,
      "outputs": []
    },
    {
      "cell_type": "markdown",
      "metadata": {
        "id": "aUMIMtiy3r5H"
      },
      "source": [
        "### Função de Ativação Gaussiana\n",
        "\n",
        "$$f(x) = \\exp \\left( \\frac{-(x - \\mu)^2}{2\\sigma^2} \\right)$$\n",
        "\n",
        "- $\\mu$ é o ponto médio (centro) da curva\n",
        "- $\\sigma$ denota o raio de abertura\n",
        "- Implemente uma função em Python que retorne o valor da função gaussiana para uma dada entrada\n",
        "- Plote o gráfico da função no intervalo de entrada previamente especificado\n",
        "- Implemente uma função que retorne o valor da derivada da função em questão\n",
        "\n",
        "\n",
        "Considere também os seguintes valores ao plotar a função\n",
        "\n",
        "- Parâmetros nomeados $\\mu = 0$ e $\\sigma = 1$\n",
        "- $\\mu = 0, \\sigma = 0.3$\n",
        "- $\\mu = 0, \\sigma = 0.5$\n",
        "- $\\mu = 0, \\sigma = 0.7$\n",
        "- $\\mu = 0, \\sigma = 0.9$\n",
        "- $\\mu = 0, \\sigma = 1.1$"
      ]
    },
    {
      "cell_type": "code",
      "metadata": {
        "id": "61iR40x83r5I"
      },
      "source": [
        "# Definição da funcao de ativação sigmoide\n",
        "def gaussiana(x, mi, sigma):\n",
        "  sigma = sigma\n",
        "  mi = mi\n",
        "  num = -1 * pow((x - mi), 2)\n",
        "  den = 2 * pow(sigma, 2)\n",
        "  ans = math.exp(num/den)\n",
        "  return ans\n",
        "\n",
        "# Definição da derivada da funcao de ativação sigmoide\n",
        "def derivada_gaussiana(x, mi, sigma):\n",
        "  sigma = sigma\n",
        "  mi = mi\n",
        "  num = x - mi\n",
        "  den = -1 * pow(sigma, 2) * math.exp(pow((x-mi), 2)/2*pow(sigma, 2))\n",
        "  ans = num/den\n",
        "  return ans"
      ],
      "execution_count": null,
      "outputs": []
    },
    {
      "cell_type": "code",
      "metadata": {
        "id": "PWDFyHy83r5K"
      },
      "source": [
        "# Plot do grafico da funcao gaussiana para intervalo predefinido\n",
        "\n",
        "sigma = np.array([1, 0.3, 0.5, 0.7, 0.9, 1.1])\n",
        "\n",
        "eixo_y = np.zeros(len(eixo_x))\n",
        "for sig in sigma:\n",
        "  for i in range(len(eixo_x)):\n",
        "    eixo_y[i] = gaussiana(eixo_x[i], 0, sig)\n",
        "\n",
        "  plt.plot(eixo_x, eixo_y, label = \"Reta da funcao de ativaçao gaussiana com u=0 e sigma={}\".format(sig))\n",
        "  plt.legend(loc=\"upper center\", bbox_to_anchor=(0.5, 1.48))"
      ],
      "execution_count": null,
      "outputs": []
    },
    {
      "cell_type": "code",
      "metadata": {
        "id": "TcV8UK4e3r5M"
      },
      "source": [
        "# Plot do grafico da derivada da funcao gaussiana para intervalo predefinido\n",
        "sigma = np.array([1, 0.3, 0.5, 0.7, 0.9, 1.1])\n",
        "\n",
        "eixo_y = np.zeros(len(eixo_x))\n",
        "for sig in sigma:\n",
        "  for i in range(len(eixo_x)):\n",
        "    eixo_y[i] = derivada_gaussiana(eixo_x[i], 0, sig)\n",
        "\n",
        "  plt.plot(eixo_x, eixo_y, label = \"Reta da derivada da funcao gaussiana com u=0 e sigma={}\".format(sig))\n",
        "  plt.legend(loc=\"upper center\", bbox_to_anchor=(0.5, 1.48))"
      ],
      "execution_count": null,
      "outputs": []
    },
    {
      "cell_type": "markdown",
      "metadata": {
        "id": "z5RRUQRS3r5O"
      },
      "source": [
        "### Função de Ativação Leaky ReLU\n",
        "\n",
        "$$f(x) = \\left\\{\\begin{array}{cc} 0.01\\cdot x & x < 0\\\\\n",
        "x & x \\geq 0\n",
        "\\end{array}\n",
        "\\right.$$\n",
        "\n",
        "- Implemente uma função em Python que retorne o valor da função Leaky ReLU para uma dada entrada\n",
        "- Plote o gráfico da função no intervalo de entrada previamente especificado\n",
        "- Implemente uma função que retorne o valor da derivada da função Leaky ReLU"
      ]
    },
    {
      "cell_type": "code",
      "metadata": {
        "id": "zhYpEtrS3r5P"
      },
      "source": [
        "# Definição da funcao de ativação leaky relu\n",
        "def leaky_relu(x):\n",
        "  ans = 0.01*x if x<0 == 0 else x\n",
        "  return ans\n",
        "\n",
        "# Definição da derivada da funcao de ativação leaky relu\n",
        "def derivada_leaky_relu(x):\n",
        "  ans = 0.01 if x<0 else 1\n",
        "  return ans"
      ],
      "execution_count": null,
      "outputs": []
    },
    {
      "cell_type": "code",
      "metadata": {
        "id": "A2BRnhmD3r5R"
      },
      "source": [
        "# Plot do grafico da funcao leaky relu para intervalo predefinido\n",
        "\n",
        "eixo_y = np.zeros(len(eixo_x))\n",
        "eixo_y_derivado = np.zeros(len(eixo_x))\n",
        "for i in range(len(eixo_x)):\n",
        "  eixo_y[i] = leaky_relu(eixo_x[i])\n",
        "  eixo_y_derivado[i] = derivada_leaky_relu(eixo_x[i])\n",
        "\n",
        "plt.plot(eixo_x, eixo_y, label = \"Reta da funcao de ativação relu\")\n",
        "plt.plot(eixo_x, eixo_y_derivado, label = \"Reta da derivada da funcao de ativação relu\")\n",
        "plt.legend(loc=\"upper center\", bbox_to_anchor=(0.5, 1.25))"
      ],
      "execution_count": null,
      "outputs": []
    }
  ]
}