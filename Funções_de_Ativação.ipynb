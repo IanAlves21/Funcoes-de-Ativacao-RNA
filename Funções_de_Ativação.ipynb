{
  "nbformat": 4,
  "nbformat_minor": 0,
  "metadata": {
    "kernelspec": {
      "display_name": "Python 3",
      "language": "python",
      "name": "python3"
    },
    "language_info": {
      "codemirror_mode": {
        "name": "ipython",
        "version": 3
      },
      "file_extension": ".py",
      "mimetype": "text/x-python",
      "name": "python",
      "nbconvert_exporter": "python",
      "pygments_lexer": "ipython3",
      "version": "3.8.3"
    },
    "colab": {
      "name": "Funções de Ativação.ipynb",
      "provenance": [],
      "include_colab_link": true
    }
  },
  "cells": [
    {
      "cell_type": "markdown",
      "metadata": {
        "id": "view-in-github",
        "colab_type": "text"
      },
      "source": [
        "<a href=\"https://colab.research.google.com/github/IanAlves21/Funcoes-de-Ativacao-RNA/blob/main/Fun%C3%A7%C3%B5es_de_Ativa%C3%A7%C3%A3o.ipynb\" target=\"_parent\"><img src=\"https://colab.research.google.com/assets/colab-badge.svg\" alt=\"Open In Colab\"/></a>"
      ]
    },
    {
      "cell_type": "markdown",
      "metadata": {
        "id": "fxrarj9I3r4e"
      },
      "source": [
        "# Conhecendo as Funções de Ativação\n",
        "\n",
        "**Disciplina**: Redes Neurais Artificiais 2020.1  \n",
        "**Professora**: Elloá B. Guedes (ebgcosta@uea.edu.br)  \n",
        "**Github**: http://github.com/elloa  \n",
        "\n",
        "## Apresentação\n",
        "\n",
        "No contexto das redes neurais artificiais, as funções de ativação representam as transformações aplicadas às entradas do neurônio sujeitas aos respectivos graus de contribuição (pesos) para decidir se este neurônio deve ou não disparar. Ao considerar as redes neurais feedforward multilayer perceptron, tais funções de ativação devem ser contínuas e deriváveis, sendo responsáveis por realizarem transformações não-lineares sucessivas da informação fornecida na camada de entrada até a camada de saída, fazendo com que o problema vá tornando-se linearmente separável à medida que adentra-se na rede.\n",
        "\n",
        "Neste notebook, o seu objetivo é conhecer melhor as funções de ativação disponíveis na literatura e suas respectivas derivadas. Você irá construir gráficos que ilustrem tais funções.\n",
        "\n",
        "## Requisitos\n",
        "\n",
        "- Utilizar numpy\n",
        "- Plotar com matplotlib"
      ]
    },
    {
      "cell_type": "code",
      "metadata": {
        "id": "HcaCJpIf3r4f"
      },
      "source": [
        "# Célula reservada para importar bibliotecas\n",
        "import numpy as np\n",
        "import random\n",
        "import math\n",
        "import matplotlib.pyplot as plt"
      ],
      "execution_count": 2,
      "outputs": []
    },
    {
      "cell_type": "markdown",
      "metadata": {
        "id": "w_U8B9e63r4k"
      },
      "source": [
        "## Intervalo de Entrada\n",
        "\n",
        "- Todas as funções devem ser ilustradas no intervalo [-4,+4] com amostras intervaladas em 0.1 no eixo x\n",
        "- Consulte a documentação de numpy.arange sobre como fazê-lo\n",
        "- https://numpy.org/doc/stable/reference/generated/numpy.arange.html#numpy.arange\n",
        "- Quantas amostras há em tal espaço de entrada?\n",
        "- Qual o tipo deste dado?\n",
        "- Qual a forma do espaço de entrada?"
      ]
    },
    {
      "cell_type": "code",
      "metadata": {
        "id": "HwKB5H4S3r4l"
      },
      "source": [
        "# geração dos pontos do eixo X, intervalo fechado de [-4.0 , 4.0]\n",
        "eixo_x = np.arange(-4.0, 4.1, 0.1)       \n",
        "for i in range(len(eixo_x)):\n",
        "  eixo_x[i] = round(eixo_x[i], 2)"
      ],
      "execution_count": 24,
      "outputs": []
    },
    {
      "cell_type": "code",
      "metadata": {
        "id": "3nGKnh9P3r4o",
        "outputId": "ce44a4cd-feac-402e-e373-77c72e379594",
        "colab": {
          "base_uri": "https://localhost:8080/",
          "height": 34
        }
      },
      "source": [
        "print(\"O espaço de entrada é preenchido com {} amostras\".format(len(eixo_x)))"
      ],
      "execution_count": 11,
      "outputs": [
        {
          "output_type": "stream",
          "text": [
            "O espaço de entrada é preenchido com 81 amostras\n"
          ],
          "name": "stdout"
        }
      ]
    },
    {
      "cell_type": "code",
      "metadata": {
        "id": "E9CU-LjJ3r4r",
        "outputId": "4784d222-6f18-4e90-e46d-ba85a2aaa669",
        "colab": {
          "base_uri": "https://localhost:8080/",
          "height": 34
        }
      },
      "source": [
        "print(\"o tipo desde dados de entrada é: {}\".format(type(eixo_x[0])))"
      ],
      "execution_count": 13,
      "outputs": [
        {
          "output_type": "stream",
          "text": [
            "o tipo desde dados de entrada é <class 'numpy.float64'>\n"
          ],
          "name": "stdout"
        }
      ]
    },
    {
      "cell_type": "code",
      "metadata": {
        "id": "6jlJ9ucb3r4v"
      },
      "source": [
        ""
      ],
      "execution_count": null,
      "outputs": []
    },
    {
      "cell_type": "markdown",
      "metadata": {
        "id": "fbZHlz3j3r4x"
      },
      "source": [
        "### Função de ativação sigmoide\n",
        "\n",
        "$$f(x) = \\frac{1}{1 + e^{-\\beta \\cdot x}}$$\n",
        "\n",
        "- Implemente uma função em Python que retorne o valor da função sigmóide para uma dada entrada\n",
        "- Nesta função, considere beta como parâmetro nomeado com valor igual a 1.0\n",
        "- Plote o gráfico da função no intervalo de entrada previamente especificado\n",
        "- Implemente uma função que retorne o valor da derivada da função sigmoide\n",
        "- Em um mesmo gráfico, ilustre 3 valores distintos para $\\beta$:\n",
        "  - $\\beta = 0.7$ na cor laranja\n",
        "  - $\\beta = 0.5$ na cor verde\n",
        "  - $\\beta = 0.3$ na cor vermelha\n",
        "  - Use legendas no gráfico"
      ]
    },
    {
      "cell_type": "code",
      "metadata": {
        "id": "WrsfOy1z3r4y"
      },
      "source": [
        "# Definição da funcao de ativação sigmoide\n",
        "\n",
        "def sigmoide(x):\n",
        "  beta = 1.0\n",
        "  num = 1.0\n",
        "  den = (1.0 + math.exp(-beta*x))\n",
        "  ans = num/den\n",
        "  return ans"
      ],
      "execution_count": 18,
      "outputs": []
    },
    {
      "cell_type": "code",
      "metadata": {
        "id": "0z45XTMH3r40",
        "outputId": "d83c916b-7fa7-42f4-c862-1142a4c98895",
        "colab": {
          "base_uri": "https://localhost:8080/",
          "height": 310
        }
      },
      "source": [
        "# Plot do grafico da funcao sigmóide para intervalo predefinido\n",
        "\n",
        "eixo_y = np.zeros(len(eixo_x))\n",
        "for i in range(len(eixo_x)):\n",
        "  eixo_y[i] = sigmoide(eixo_x[i])\n",
        "\n",
        "plt.plot(eixo_x, eixo_y, label = \"Reta da função de ativação sigmóide\")\n",
        "plt.legend(loc=\"upper center\", bbox_to_anchor=(0.5, 1.15))"
      ],
      "execution_count": 46,
      "outputs": [
        {
          "output_type": "execute_result",
          "data": {
            "text/plain": [
              "<matplotlib.legend.Legend at 0x7fdb18162240>"
            ]
          },
          "metadata": {
            "tags": []
          },
          "execution_count": 46
        },
        {
          "output_type": "display_data",
          "data": {
            "image/png": "[encoded data removed]",
            "text/plain": [
              "<Figure size 432x288 with 1 Axes>"
            ]
          },
          "metadata": {
            "tags": [],
            "needs_background": "light"
          }
        }
      ]
    },
    {
      "cell_type": "code",
      "metadata": {
        "id": "kiioCbsp3r43"
      },
      "source": [
        ""
      ],
      "execution_count": null,
      "outputs": []
    },
    {
      "cell_type": "markdown",
      "metadata": {
        "id": "PKXsmr0E3r45"
      },
      "source": [
        "### Função de Ativação ReLU (Unidade Linear Retificada)\n",
        "\n",
        "$$f(x) = max(0,x)$$\n",
        "\n",
        "- Implemente uma função em Python que retorne o valor da função ReLU para uma dada entrada\n",
        "- Plote o gráfico da função no intervalo de entrada previamente especificado\n",
        "- Implemente uma função que retorne o valor da derivada da função ReLU"
      ]
    },
    {
      "cell_type": "code",
      "metadata": {
        "id": "zLcU_nNS3r46"
      },
      "source": [
        ""
      ],
      "execution_count": null,
      "outputs": []
    },
    {
      "cell_type": "markdown",
      "metadata": {
        "id": "KY4b3WQV3r47"
      },
      "source": [
        "### Função de ativação linear (purelin)\n",
        "\n",
        "$$f(x) = x$$\n",
        "\n",
        "- Implemente uma função em Python que retorne o valor da função linear para uma dada entrada\n",
        "- Plote o gráfico da função no intervalo de entrada previamente especificado\n",
        "- Implemente uma função que retorne o valor da derivada da função em questão"
      ]
    },
    {
      "cell_type": "code",
      "metadata": {
        "id": "SQvny2pp3r48"
      },
      "source": [
        ""
      ],
      "execution_count": null,
      "outputs": []
    },
    {
      "cell_type": "code",
      "metadata": {
        "id": "Z4c8OZzF3r4-"
      },
      "source": [
        ""
      ],
      "execution_count": null,
      "outputs": []
    },
    {
      "cell_type": "code",
      "metadata": {
        "id": "nBq24WOm3r5A"
      },
      "source": [
        ""
      ],
      "execution_count": null,
      "outputs": []
    },
    {
      "cell_type": "markdown",
      "metadata": {
        "id": "AC8D4hSY3r5C"
      },
      "source": [
        "### Função de ativação Tangente Hiperbólica\n",
        "\n",
        "$$f(x) = tanh(x)$$\n",
        "\n",
        "- Implemente uma função em Python que retorne o valor da função tangente hiperbólica para uma dada entrada\n",
        "- Plote o gráfico da função no intervalo de entrada previamente especificado\n",
        "- Implemente uma função que retorne o valor da derivada da função em questão\n",
        "- Utilize bibliotecas para auxiliar nesta tarefa\n",
        "- Considere o intervalo (-1,1)"
      ]
    },
    {
      "cell_type": "code",
      "metadata": {
        "id": "3Pizrq0r3r5C"
      },
      "source": [
        ""
      ],
      "execution_count": null,
      "outputs": []
    },
    {
      "cell_type": "code",
      "metadata": {
        "id": "v7NHz3yd3r5E"
      },
      "source": [
        ""
      ],
      "execution_count": null,
      "outputs": []
    },
    {
      "cell_type": "markdown",
      "metadata": {
        "id": "aUMIMtiy3r5H"
      },
      "source": [
        "### Função de Ativação Gaussiana\n",
        "\n",
        "$$f(x) = \\exp \\left( \\frac{-(x - \\mu)^2}{2\\sigma^2} \\right)$$\n",
        "\n",
        "- $\\mu$ é o ponto médio (centro) da curva\n",
        "- $\\sigma$ denota o raio de abertura\n",
        "- Implemente uma função em Python que retorne o valor da função gaussiana para uma dada entrada\n",
        "- Plote o gráfico da função no intervalo de entrada previamente especificado\n",
        "- Implemente uma função que retorne o valor da derivada da função em questão\n",
        "\n",
        "\n",
        "Considere também os seguintes valores ao plotar a função\n",
        "\n",
        "- Parâmetros nomeados $\\mu = 0$ e $\\sigma = 1$\n",
        "- $\\mu = 0, \\sigma = 0.3$\n",
        "- $\\mu = 0, \\sigma = 0.5$\n",
        "- $\\mu = 0, \\sigma = 0.7$\n",
        "- $\\mu = 0, \\sigma = 0.9$\n",
        "- $\\mu = 0, \\sigma = 1.1$"
      ]
    },
    {
      "cell_type": "code",
      "metadata": {
        "id": "61iR40x83r5I"
      },
      "source": [
        ""
      ],
      "execution_count": null,
      "outputs": []
    },
    {
      "cell_type": "code",
      "metadata": {
        "id": "PWDFyHy83r5K"
      },
      "source": [
        ""
      ],
      "execution_count": null,
      "outputs": []
    },
    {
      "cell_type": "code",
      "metadata": {
        "id": "TcV8UK4e3r5M"
      },
      "source": [
        ""
      ],
      "execution_count": null,
      "outputs": []
    },
    {
      "cell_type": "markdown",
      "metadata": {
        "id": "z5RRUQRS3r5O"
      },
      "source": [
        "### Função de Ativação Leaky ReLU\n",
        "\n",
        "$$f(x) = \\left\\{\\begin{array}{cc} 0.01\\cdot x & x < 0\\\\\n",
        "x & x \\geq 0\n",
        "\\end{array}\n",
        "\\right.$$\n",
        "\n",
        "- Implemente uma função em Python que retorne o valor da função Leaky ReLU para uma dada entrada\n",
        "- Plote o gráfico da função no intervalo de entrada previamente especificado\n",
        "- Implemente uma função que retorne o valor da derivada da função Leaky ReLU"
      ]
    },
    {
      "cell_type": "code",
      "metadata": {
        "id": "zhYpEtrS3r5P"
      },
      "source": [
        ""
      ],
      "execution_count": null,
      "outputs": []
    },
    {
      "cell_type": "code",
      "metadata": {
        "id": "A2BRnhmD3r5R"
      },
      "source": [
        ""
      ],
      "execution_count": null,
      "outputs": []
    },
    {
      "cell_type": "code",
      "metadata": {
        "id": "TDYpC3O33r5T"
      },
      "source": [
        ""
      ],
      "execution_count": null,
      "outputs": []
    }
  ]
}